{
  "nbformat": 4,
  "nbformat_minor": 0,
  "metadata": {
    "colab": {
      "provenance": [],
      "gpuType": "T4"
    },
    "kernelspec": {
      "name": "python3",
      "display_name": "Python 3"
    },
    "language_info": {
      "name": "python"
    },
    "accelerator": "GPU"
  },
  "cells": [
    {
      "cell_type": "code",
      "execution_count": 1,
      "metadata": {
        "colab": {
          "base_uri": "https://localhost:8080/"
        },
        "id": "iJvY9biXVGBX",
        "outputId": "bb3c5c1f-3e11-48f7-d406-af1b87c1aea8"
      },
      "outputs": [
        {
          "output_type": "stream",
          "name": "stdout",
          "text": [
            "--2023-12-07 17:07:11--  https://storage.googleapis.com/ztm_tf_course/food_vision/10_food_classes_10_percent.zip\n",
            "Resolving storage.googleapis.com (storage.googleapis.com)... 74.125.200.207, 74.125.130.207, 74.125.68.207, ...\n",
            "Connecting to storage.googleapis.com (storage.googleapis.com)|74.125.200.207|:443... connected.\n",
            "HTTP request sent, awaiting response... 200 OK\n",
            "Length: 168546183 (161M) [application/zip]\n",
            "Saving to: ‘10_food_classes_10_percent.zip’\n",
            "\n",
            "10_food_classes_10_ 100%[===================>] 160.74M  23.1MB/s    in 8.1s    \n",
            "\n",
            "2023-12-07 17:07:19 (19.8 MB/s) - ‘10_food_classes_10_percent.zip’ saved [168546183/168546183]\n",
            "\n"
          ]
        }
      ],
      "source": [
        "# Download data\n",
        "!wget https://storage.googleapis.com/ztm_tf_course/food_vision/10_food_classes_10_percent.zip"
      ]
    },
    {
      "cell_type": "code",
      "source": [
        "import zipfile"
      ],
      "metadata": {
        "id": "qnZVmtRQXFg-"
      },
      "execution_count": 2,
      "outputs": []
    },
    {
      "cell_type": "code",
      "source": [
        "zip_ref = zipfile.ZipFile(\"/content/10_food_classes_10_percent.zip\")\n",
        "zip_ref.extractall()\n",
        "zip_ref.close()"
      ],
      "metadata": {
        "id": "2f7wfHN0XLu7"
      },
      "execution_count": 3,
      "outputs": []
    },
    {
      "cell_type": "code",
      "source": [
        " from tensorflow.keras.preprocessing.image import ImageDataGenerator"
      ],
      "metadata": {
        "id": "H-7smSdM7X4P"
      },
      "execution_count": 4,
      "outputs": []
    },
    {
      "cell_type": "code",
      "source": [
        "train_data_gen = ImageDataGenerator(rescale=1/255)\n",
        "test_data_gen = ImageDataGenerator(rescale=1/255)\n",
        "\n",
        "train_data_path = \"/content/10_food_classes_10_percent/train\"\n",
        "test_data_path = \"/content/10_food_classes_10_percent/test\"\n",
        "\n",
        "train_data = train_data_gen.flow_from_directory(train_data_path, target_size=(284, 284), color_mode='rgb',\n",
        "                                                class_mode='categorical', batch_size=32\n",
        "                                                )\n",
        "\n"
      ],
      "metadata": {
        "colab": {
          "base_uri": "https://localhost:8080/"
        },
        "id": "6j5rJijO7uY8",
        "outputId": "47af6260-3c7c-4080-f1a3-0411920b5191"
      },
      "execution_count": 5,
      "outputs": [
        {
          "output_type": "stream",
          "name": "stdout",
          "text": [
            "Found 750 images belonging to 10 classes.\n"
          ]
        }
      ]
    },
    {
      "cell_type": "code",
      "source": [
        "test_data = test_data_gen.flow_from_directory(test_data_path, target_size=(284,284), color_mode='rgb',\n",
        "                                              class_mode='categorical', batch_size=32)"
      ],
      "metadata": {
        "colab": {
          "base_uri": "https://localhost:8080/"
        },
        "id": "Qc5eiLD1Q0Bf",
        "outputId": "81fd2c42-777e-432a-b36c-c0839491973e"
      },
      "execution_count": 6,
      "outputs": [
        {
          "output_type": "stream",
          "name": "stdout",
          "text": [
            "Found 2500 images belonging to 10 classes.\n"
          ]
        }
      ]
    },
    {
      "cell_type": "code",
      "source": [
        "import tensorflow as tf"
      ],
      "metadata": {
        "id": "MKFXVQrXQ0-g"
      },
      "execution_count": 7,
      "outputs": []
    },
    {
      "cell_type": "code",
      "source": [
        "import datetime\n",
        "def create_tensorboard_callback(directory, experiment_name):\n",
        "  dir = directory + \"/\"+ experiment_name + \"/\" + datetime.datetime.now().strftime(\"%Y%m%d-%H%M%S\")\n",
        "  tensorboard_callback = tf.keras.callbacks.TensorBoard(\n",
        "      log_dir = dir\n",
        "  )\n",
        "\n",
        "  print(f\"Saving log files to : {dir}\")\n",
        "  return tensorboard_callback"
      ],
      "metadata": {
        "id": "FusGwcm8b0Pq"
      },
      "execution_count": 17,
      "outputs": []
    },
    {
      "cell_type": "code",
      "source": [
        "import tensorflow_hub as hub\n",
        "from tensorflow.keras import layers"
      ],
      "metadata": {
        "id": "uneNyZaHnZiu"
      },
      "execution_count": 10,
      "outputs": []
    },
    {
      "cell_type": "code",
      "source": [
        "# Original: EfficientNetB0 feature vector (version 1)\n",
        "efficientnet_url = \"https://tfhub.dev/tensorflow/efficientnet/b0/feature-vector/1\""
      ],
      "metadata": {
        "id": "9pU2hv7Uo93v"
      },
      "execution_count": 11,
      "outputs": []
    },
    {
      "cell_type": "code",
      "source": [
        "IMAGE_SHAPE = (284, 284)"
      ],
      "metadata": {
        "id": "8ulFY5Orpg1L"
      },
      "execution_count": 12,
      "outputs": []
    },
    {
      "cell_type": "code",
      "source": [
        "feature_extraction_layer = hub.KerasLayer(efficientnet_url, trainable=False, name=\"feature_extraction_layer\",\n",
        "                                          input_shape=IMAGE_SHAPE+(3,))"
      ],
      "metadata": {
        "id": "Z0L0mEiQo-f4"
      },
      "execution_count": 13,
      "outputs": []
    },
    {
      "cell_type": "code",
      "source": [
        "model = tf.keras.Sequential([\n",
        "    feature_extraction_layer,\n",
        "    layers.Dense(10, activation='softmax', name='output_layer')\n",
        "])"
      ],
      "metadata": {
        "id": "EJSvc0AFpnaA"
      },
      "execution_count": 14,
      "outputs": []
    },
    {
      "cell_type": "code",
      "source": [
        "model.compile(\n",
        "    loss='categorical_crossentropy',\n",
        "    optimizer=tf.keras.optimizers.Adam(),\n",
        "    metrics=['accuracy']\n",
        ")"
      ],
      "metadata": {
        "id": "Txjk5GaWp2Kj"
      },
      "execution_count": 15,
      "outputs": []
    },
    {
      "cell_type": "code",
      "source": [
        "model_history = model.fit(train_data,\n",
        "                          epochs=3,\n",
        "                          steps_per_epoch=len(train_data),\n",
        "                          validation_data=test_data,\n",
        "                          validation_steps=len(test_data),\n",
        "                          callbacks=[create_tensorboard_callback(\"tensorflow_hub\", \"EfficientNetB0\")])"
      ],
      "metadata": {
        "colab": {
          "base_uri": "https://localhost:8080/"
        },
        "id": "GFTpXODcqGNj",
        "outputId": "e28cf313-133e-45e6-b039-eee642afab17"
      },
      "execution_count": 18,
      "outputs": [
        {
          "output_type": "stream",
          "name": "stdout",
          "text": [
            "Saving log files to : tensorflow_hub/EfficientNetB0/20231207-170900\n",
            "Epoch 1/3\n",
            "24/24 [==============================] - 32s 632ms/step - loss: 1.8384 - accuracy: 0.4387 - val_loss: 1.3128 - val_accuracy: 0.7100\n",
            "Epoch 2/3\n",
            "24/24 [==============================] - 13s 543ms/step - loss: 1.0906 - accuracy: 0.7493 - val_loss: 0.8872 - val_accuracy: 0.8168\n",
            "Epoch 3/3\n",
            "24/24 [==============================] - 13s 547ms/step - loss: 0.7889 - accuracy: 0.8387 - val_loss: 0.7126 - val_accuracy: 0.8484\n"
          ]
        }
      ]
    },
    {
      "cell_type": "code",
      "source": [
        "import pandas as pd"
      ],
      "metadata": {
        "id": "43WkJJNTqsje"
      },
      "execution_count": 19,
      "outputs": []
    },
    {
      "cell_type": "code",
      "source": [
        "pd.DataFrame(model_history.history).plot()"
      ],
      "metadata": {
        "colab": {
          "base_uri": "https://localhost:8080/",
          "height": 447
        },
        "id": "EP9zWd2Wqt_8",
        "outputId": "28cebaf2-b94a-4b08-c414-d28db879e5f9"
      },
      "execution_count": 20,
      "outputs": [
        {
          "output_type": "execute_result",
          "data": {
            "text/plain": [
              "<Axes: >"
            ]
          },
          "metadata": {},
          "execution_count": 20
        },
        {
          "output_type": "display_data",
          "data": {
            "text/plain": [
              "<Figure size 640x480 with 1 Axes>"
            ],
            "image/png": "[encoded data removed]"
          },
          "metadata": {}
        }
      ]
    },
    {
      "cell_type": "code",
      "source": [],
      "metadata": {
        "id": "Z9hvcFUgq7x0"
      },
      "execution_count": null,
      "outputs": []
    }
  ]
}